{
 "cells": [
  {
   "cell_type": "markdown",
   "metadata": {
    "colab_type": "text",
    "id": "IvLvmewlxLix"
   },
   "source": [
    "<font face='georgia'>\n",
    "    \n",
    "   <h4><strong>What does tf-idf mean?</strong></h4>\n",
    "\n",
    "   <p>    \n",
    "Tf-idf stands for <em>term frequency-inverse document frequency</em>, and the tf-idf weight is a weight often used in information retrieval and text mining. This weight is a statistical measure used to evaluate how important a word is to a document in a collection or corpus. The importance increases proportionally to the number of times a word appears in the document but is offset by the frequency of the word in the corpus. Variations of the tf-idf weighting scheme are often used by search engines as a central tool in scoring and ranking a document's relevance given a user query.\n",
    "</p>\n",
    "    \n",
    "   <p>\n",
    "One of the simplest ranking functions is computed by summing the tf-idf for each query term; many more sophisticated ranking functions are variants of this simple model.\n",
    "</p>\n",
    "    \n",
    "   <p>\n",
    "Tf-idf can be successfully used for stop-words filtering in various subject fields including text summarization and classification.\n",
    "</p>\n",
    "    \n",
    "</font>"
   ]
  },
  {
   "cell_type": "markdown",
   "metadata": {
    "colab_type": "text",
    "id": "4XLaGFUMxLiy"
   },
   "source": [
    "<font face='georgia'>\n",
    "    <h4><strong>How to Compute:</strong></h4>\n",
    "\n",
    "Typically, the tf-idf weight is composed by two terms: the first computes the normalized Term Frequency (TF), aka. the number of times a word appears in a document, divided by the total number of words in that document; the second term is the Inverse Document Frequency (IDF), computed as the logarithm of the number of the documents in the corpus divided by the number of documents where the specific term appears.\n",
    "\n",
    " <ul>\n",
    "    <li>\n",
    "<strong>TF:</strong> Term Frequency, which measures how frequently a term occurs in a document. Since every document is different in length, it is possible that a term would appear much more times in long documents than shorter ones. Thus, the term frequency is often divided by the document length (aka. the total number of terms in the document) as a way of normalization: <br>\n",
    "\n",
    "$TF(t) = \\frac{\\text{Number of times term t appears in a document}}{\\text{Total number of terms in the document}}.$\n",
    "</li>\n",
    "<li>\n",
    "<strong>IDF:</strong> Inverse Document Frequency, which measures how important a term is. While computing TF, all terms are considered equally important. However it is known that certain terms, such as \"is\", \"of\", and \"that\", may appear a lot of times but have little importance. Thus we need to weigh down the frequent terms while scale up the rare ones, by computing the following: <br>\n",
    "\n",
    "$IDF(t) = \\log_{e}\\frac{\\text{Total  number of documents}} {\\text{Number of documents with term t in it}}.$\n",
    "for numerical stabiltiy we will be changing this formula little bit\n",
    "$IDF(t) = \\log_{e}\\frac{\\text{Total  number of documents}} {\\text{Number of documents with term t in it}+1}.$\n",
    "</li>\n",
    "</ul>\n",
    "\n",
    "<br>\n",
    "<h4><strong>Example</strong></h4>\n",
    "<p>\n",
    "\n",
    "Consider a document containing 100 words wherein the word cat appears 3 times. The term frequency (i.e., tf) for cat is then (3 / 100) = 0.03. Now, assume we have 10 million documents and the word cat appears in one thousand of these. Then, the inverse document frequency (i.e., idf) is calculated as log(10,000,000 / 1,000) = 4. Thus, the Tf-idf weight is the product of these quantities: 0.03 * 4 = 0.12.\n",
    "</p>\n",
    "</font>"
   ]
  },
  {
   "cell_type": "markdown",
   "metadata": {
    "colab_type": "text",
    "id": "TAcTjhO8xLiz"
   },
   "source": [
    "<font face='georgia'>\n",
    "    <h4><strong>1. Building a TFIDF Vectorizer & compare its results with Sklearn:</strong></h4>\n",
    "\n",
    "<ul>\n",
    "    <li> As a part of this task you will be implementing TFIDF vectorizer on a collection of text documents.</li>\n",
    "    <br>\n",
    "    <li> You should compare the results of your own implementation of TFIDF vectorizer with that of sklearns implemenation TFIDF vectorizer.</li>\n",
    "    <br>\n",
    "    <li> Sklearn does few more tweaks in the implementation of its version of TFIDF vectorizer, so to replicate the exact results you would need to add following things to your custom implementation of tfidf vectorizer:\n",
    "       <ol>\n",
    "        <li> Sklearn has its vocabulary generated from idf sroted in alphabetical order</li>\n",
    "        <li> Sklearn formula of idf is different from the standard textbook formula. Here the constant <strong>\"1\"</strong> is added to the numerator and denominator of the idf as if an extra document was seen containing every term in the collection exactly once, which prevents zero divisions.\n",
    "            \n",
    " $IDF(t) = 1+\\log_{e}\\frac{1\\text{ }+\\text{ Total  number of documents in collection}} {1+\\text{Number of documents with term t in it}}.$\n",
    "        </li>\n",
    "        <li> Sklearn applies L2-normalization on its output matrix.</li>\n",
    "        <li> The final output of sklearn tfidf vectorizer is a sparse matrix.</li>\n",
    "    </ol>\n",
    "    <br>\n",
    "    <li>Steps to approach this task:\n",
    "    <ol>\n",
    "        <li> You would have to write both fit and transform methods for your custom implementation of tfidf vectorizer.</li>\n",
    "        <li> Print out the alphabetically sorted voacb after you fit your data and check if its the same as that of the feature names from sklearn tfidf vectorizer. </li>\n",
    "        <li> Print out the idf values from your implementation and check if its the same as that of sklearns tfidf vectorizer idf values. </li>\n",
    "        <li> Once you get your voacb and idf values to be same as that of sklearns implementation of tfidf vectorizer, proceed to the below steps. </li>\n",
    "        <li> Make sure the output of your implementation is a sparse matrix. Before generating the final output, you need to normalize your sparse matrix using L2 normalization. You can refer to this link https://scikit-learn.org/stable/modules/generated/sklearn.preprocessing.normalize.html </li>\n",
    "        <li> After completing the above steps, print the output of your custom implementation and compare it with sklearns implementation of tfidf vectorizer.</li>\n",
    "        <li> To check the output of a single document in your collection of documents,  you can convert the sparse matrix related only to that document into dense matrix and print it.</li>\n",
    "        </ol>\n",
    "    </li>\n",
    "    <br>\n",
    "   </ul>\n",
    "\n",
    "  <p> <font color=\"#e60000\"><strong>Note-1: </strong></font> All the necessary outputs of sklearns tfidf vectorizer have been provided as reference in this notebook, you can compare your outputs as mentioned in the above steps, with these outputs.<br>\n",
    "   <font color=\"#e60000\"><strong>Note-2: </strong></font> The output of your custom implementation and that of sklearns implementation would match only with the collection of document strings provided to you as reference in this notebook. It would not match for strings that contain capital letters or punctuations, etc, because sklearn version of tfidf vectorizer deals with such strings in a different way. To know further details about how sklearn tfidf vectorizer works with such string, you can always refer to its official documentation.<br>\n",
    "   <font color=\"#e60000\"><strong>Note-3: </strong></font> During this task, it would be helpful for you to debug the code you write with print statements wherever necessary. But when you are finally submitting the assignment, make sure your code is readable and try not to print things which are not part of this task.\n",
    "    </p>"
   ]
  },
  {
   "cell_type": "markdown",
   "metadata": {
    "colab_type": "text",
    "id": "OnV82tg1xLi0"
   },
   "source": [
    "### Corpus"
   ]
  },
  {
   "cell_type": "code",
   "execution_count": 5,
   "metadata": {
    "colab": {},
    "colab_type": "code",
    "id": "bUsYm9wjxLi1"
   },
   "outputs": [],
   "source": [
    "## SkLearn# Collection of string documents\n",
    "\n",
    "corpus = [\n",
    "     'this is the first document',\n",
    "     'this document is the second document',\n",
    "     'and this is the third one',\n",
    "     'is this the first document',\n",
    "]"
   ]
  },
  {
   "cell_type": "markdown",
   "metadata": {
    "colab_type": "text",
    "id": "eLwmFZfKxLi4"
   },
   "source": [
    "### SkLearn Implementation"
   ]
  },
  {
   "cell_type": "code",
   "execution_count": 6,
   "metadata": {
    "colab": {},
    "colab_type": "code",
    "id": "Np4dfQOkxLi4"
   },
   "outputs": [],
   "source": [
    "from sklearn.feature_extraction.text import TfidfVectorizer\n",
    "vectorizer = TfidfVectorizer()\n",
    "vectorizer.fit(corpus)\n",
    "skl_output = vectorizer.transform(corpus)"
   ]
  },
  {
   "cell_type": "code",
   "execution_count": 7,
   "metadata": {
    "colab": {},
    "colab_type": "code",
    "id": "-7Om8YpYxLi6",
    "outputId": "0a3bd0f5-4424-4400-944f-4482a80bd799"
   },
   "outputs": [
    {
     "name": "stdout",
     "output_type": "stream",
     "text": [
      "['and', 'document', 'first', 'is', 'one', 'second', 'the', 'third', 'this']\n"
     ]
    }
   ],
   "source": [
    "# sklearn feature names, they are sorted in alphabetic order by default.\n",
    "\n",
    "print(vectorizer.get_feature_names())"
   ]
  },
  {
   "cell_type": "code",
   "execution_count": 8,
   "metadata": {
    "colab": {},
    "colab_type": "code",
    "id": "dTKplK96xLi-",
    "outputId": "53722fa2-6756-4aa0-f179-37b578bb6890"
   },
   "outputs": [
    {
     "name": "stdout",
     "output_type": "stream",
     "text": [
      "[1.91629073 1.22314355 1.51082562 1.         1.91629073 1.91629073\n",
      " 1.         1.91629073 1.        ]\n"
     ]
    }
   ],
   "source": [
    "# Here we will print the sklearn tfidf vectorizer idf values after applying the fit method\n",
    "# After using the fit function on the corpus the vocab has 9 words in it, and each has its idf value.\n",
    "\n",
    "print(vectorizer.idf_)"
   ]
  },
  {
   "cell_type": "code",
   "execution_count": 9,
   "metadata": {
    "colab": {},
    "colab_type": "code",
    "id": "-CTiWHygxLjA",
    "outputId": "8d5a9cde-2c29-4afe-f7b4-1547e88dba4f"
   },
   "outputs": [
    {
     "data": {
      "text/plain": [
       "(4, 9)"
      ]
     },
     "execution_count": 9,
     "metadata": {},
     "output_type": "execute_result"
    }
   ],
   "source": [
    "# shape of sklearn tfidf vectorizer output after applying transform method.\n",
    "\n",
    "skl_output.shape"
   ]
  },
  {
   "cell_type": "code",
   "execution_count": 10,
   "metadata": {
    "colab": {},
    "colab_type": "code",
    "id": "bDKEpbA-xLjD",
    "outputId": "87dafd65-5313-443f-8c6e-1b05cc8c2543"
   },
   "outputs": [
    {
     "name": "stdout",
     "output_type": "stream",
     "text": [
      "  (0, 8)\t0.38408524091481483\n",
      "  (0, 6)\t0.38408524091481483\n",
      "  (0, 3)\t0.38408524091481483\n",
      "  (0, 2)\t0.5802858236844359\n",
      "  (0, 1)\t0.46979138557992045\n"
     ]
    }
   ],
   "source": [
    "# sklearn tfidf values for first line of the above corpus.\n",
    "# Here the output is a sparse matrix\n",
    "\n",
    "print(skl_output[0])"
   ]
  },
  {
   "cell_type": "code",
   "execution_count": 11,
   "metadata": {
    "colab": {},
    "colab_type": "code",
    "id": "3QWo34hexLjF",
    "outputId": "cdc04e08-989f-4bdc-dd7f-f1c82a9f90be"
   },
   "outputs": [
    {
     "name": "stdout",
     "output_type": "stream",
     "text": [
      "[[0.         0.46979139 0.58028582 0.38408524 0.         0.\n",
      "  0.38408524 0.         0.38408524]]\n"
     ]
    },
    {
     "data": {
      "text/plain": [
       "(1, 9)"
      ]
     },
     "execution_count": 11,
     "metadata": {},
     "output_type": "execute_result"
    }
   ],
   "source": [
    "# sklearn tfidf values for first line of the above corpus.\n",
    "# To understand the output better, here we are converting the sparse output matrix to dense matrix and printing it.\n",
    "# Notice that this output is normalized using L2 normalization. sklearn does this by default.\n",
    "\n",
    "print(skl_output[0].toarray())\n",
    "skl_output[0].toarray().shape"
   ]
  },
  {
   "cell_type": "markdown",
   "metadata": {
    "colab_type": "text",
    "id": "qfIwx5LzxLjI"
   },
   "source": [
    "### Your custom implementation"
   ]
  },
  {
   "cell_type": "code",
   "execution_count": 12,
   "metadata": {
    "colab": {},
    "colab_type": "code",
    "id": "HjuCcJwXxLjJ"
   },
   "outputs": [],
   "source": [
    "# Write your code here.\n",
    "# Make sure its well documented and readble with appropriate comments.\n",
    "# Compare your results with the above sklearn tfidf vectorizer\n",
    "# You are not supposed to use any other library apart from the ones given below\n",
    "\n",
    "from collections import Counter\n",
    "from tqdm import tqdm\n",
    "from scipy.sparse import csr_matrix\n",
    "import math\n",
    "import operator\n",
    "from sklearn.preprocessing import normalize\n",
    "import numpy\n"
   ]
  },
  {
   "cell_type": "code",
   "execution_count": 13,
   "metadata": {},
   "outputs": [],
   "source": [
    "def fit(dataset):    \n",
    "    unique_words = set() # at first we will initialize an empty set\n",
    "    # check if its list type or not\n",
    "    if isinstance(dataset, (list,)):\n",
    "        for row in dataset: # for each review in the dataset\n",
    "            for word in row.split(\" \"): # for each word in the review. #split method converts a string into list of words\n",
    "                if len(word) < 2:\n",
    "                    continue\n",
    "                unique_words.add(word)\n",
    "        unique_words = sorted(list(unique_words))\n",
    "        vocab = {j:i for i,j in enumerate(unique_words)}\n",
    "        return vocab\n",
    "    else:\n",
    "        print(\"you need to pass list of sentance\")"
   ]
  },
  {
   "cell_type": "code",
   "execution_count": 14,
   "metadata": {},
   "outputs": [
    {
     "name": "stdout",
     "output_type": "stream",
     "text": [
      "dict_keys(['and', 'document', 'first', 'is', 'one', 'second', 'the', 'third', 'this'])\n"
     ]
    }
   ],
   "source": [
    "vocab=fit(corpus)\n",
    "print(vocab.keys())"
   ]
  },
  {
   "cell_type": "code",
   "execution_count": 15,
   "metadata": {},
   "outputs": [
    {
     "name": "stdout",
     "output_type": "stream",
     "text": [
      "******bag of words*****\n",
      "['this', 'is', 'the', 'first', 'document']\n",
      "['this', 'document', 'is', 'the', 'second', 'document']\n",
      "['and', 'this', 'is', 'the', 'third', 'one']\n",
      "['is', 'this', 'the', 'first', 'document']\n",
      "\n",
      "*******unique_words******\n",
      "{'this', 'the', 'one', 'is', 'first', 'third', 'document', 'and', 'second'}\n",
      "<class 'dict'>\n"
     ]
    }
   ],
   "source": [
    "bagofwords=[]\n",
    "unique_words={}\n",
    "numOfWords=[]\n",
    "print(\"******bag of words*****\")\n",
    "for i in range(len(corpus)):\n",
    "               bagofwords.append(corpus[i].split(' '))\n",
    "               numOfWords.append(len(corpus[i].split(' ')))\n",
    "               print(bagofwords[i])\n",
    "for i in range(len(corpus)-1):\n",
    "    unique_words=set(bagofwords[i]).union(unique_words)\n",
    "print('\\n*******unique_words******')\n",
    "print(unique_words)\n",
    "\n",
    "#counting num of words\n",
    "numOfWordsA = dict.fromkeys(unique_words, 0)\n",
    "for word in bagofwords[0]:\n",
    "    numOfWordsA[word] += 1\n",
    "numOfWordsB = dict.fromkeys(unique_words, 0)\n",
    "for word in bagofwords[1]:\n",
    "    numOfWordsB[word] += 1\n",
    "numOfWordsC = dict.fromkeys(unique_words, 0)\n",
    "for word in bagofwords[2]:\n",
    "    numOfWordsC[word] += 1\n",
    "numOfWordsD = dict.fromkeys(unique_words, 0)\n",
    "for word in bagofwords[3]:\n",
    "    numOfWordsD[word] += 1\n",
    "print(type(numOfWordsD))"
   ]
  },
  {
   "cell_type": "code",
   "execution_count": 16,
   "metadata": {},
   "outputs": [
    {
     "name": "stdout",
     "output_type": "stream",
     "text": [
      "{'this': 1.0, 'the': 1.0, 'one': 1.916290731874155, 'is': 1.0, 'first': 1.5108256237659907, 'third': 1.916290731874155, 'document': 1.2231435513142097, 'and': 1.916290731874155, 'second': 1.916290731874155}\n",
      "[('and', 1.916290731874155), ('document', 1.2231435513142097), ('first', 1.5108256237659907), ('is', 1.0), ('one', 1.916290731874155), ('second', 1.916290731874155), ('the', 1.0), ('third', 1.916290731874155), ('this', 1.0)]\n",
      "  (0, 1)\t0.20385725855236828\n",
      "  (0, 2)\t0.2518042706276651\n",
      "  (0, 3)\t0.16666666666666666\n",
      "  (0, 6)\t0.16666666666666666\n",
      "  (0, 8)\t0.16666666666666666\n",
      "  (1, 1)\t0.40771451710473655\n",
      "  (1, 3)\t0.16666666666666666\n",
      "  (1, 5)\t0.3193817886456925\n",
      "  (1, 6)\t0.16666666666666666\n",
      "  (1, 8)\t0.16666666666666666\n",
      "  (2, 0)\t0.3193817886456925\n",
      "  (2, 3)\t0.16666666666666666\n",
      "  (2, 4)\t0.3193817886456925\n",
      "  (2, 6)\t0.16666666666666666\n",
      "  (2, 7)\t0.3193817886456925\n",
      "  (2, 8)\t0.16666666666666666\n",
      "  (3, 1)\t0.20385725855236828\n",
      "  (3, 2)\t0.2518042706276651\n",
      "  (3, 3)\t0.16666666666666666\n",
      "  (3, 6)\t0.16666666666666666\n",
      "  (3, 8)\t0.16666666666666666\n"
     ]
    }
   ],
   "source": [
    "\n",
    "\n",
    "def computeTF(wordDict, bagOfWords):\n",
    "    tfDict = {}\n",
    "    bagOfWordsCount = len(bagOfWords)\n",
    "    for word, count in wordDict.items():\n",
    "        tfDict[word] = count / float(bagOfWordsCount)\n",
    "    return tfDict\n",
    "#calculating tf\n",
    "\n",
    "tfA = computeTF(numOfWordsA, bagofwords[i])\n",
    "tfB = computeTF(numOfWordsB, bagofwords[i])\n",
    "tfC = computeTF(numOfWordsC, bagofwords[i])\n",
    "tfD = computeTF(numOfWordsD, bagofwords[i])\n",
    "    \n",
    "\n",
    "\n",
    "\n",
    "\n",
    "def computeIDF(documents):\n",
    "    import math\n",
    "    N = len(documents)\n",
    "    \n",
    "    idfDict = dict.fromkeys(documents[0].keys(), 0)\n",
    "    for document in documents:\n",
    "        for word, val in document.items():\n",
    "            if val > 0:\n",
    "                idfDict[word] += 1\n",
    "    \n",
    "    for word, val in idfDict.items():\n",
    "        idfDict[word] =1+ math.log((1+N) /(1+ float(val)))\n",
    "    return idfDict\n",
    "\n",
    "# print(type(numOfWordsA))\n",
    "#claculating idfs\n",
    "idfs = computeIDF([numOfWordsA, numOfWordsB,numOfWordsC,numOfWordsD])\n",
    "print(idfs)\n",
    "#sorting dictionary by keys\n",
    "od = sorted(idfs.items())\n",
    "print(od)\n",
    "def computeTFIDF(tfBagOfWords, idfs):\n",
    "    tfidf = {}\n",
    "    for word, val in tfBagOfWords.items():\n",
    "        tfidf[word] = val * idfs[word]\n",
    "    return tfidf\n",
    "\n",
    "\n",
    "#calculating tfidf\n",
    "tfidfA = computeTFIDF(tfA, idfs)\n",
    "tfidfB = computeTFIDF(tfB, idfs)\n",
    "tfidfC = computeTFIDF(tfC, idfs)\n",
    "tfidfD = computeTFIDF(tfD, idfs)\n",
    "\n",
    "#sorting ditionaries by keys\n",
    "tfidfA =sorted(tfidfA.items())\n",
    "tfidfB =sorted(tfidfB.items())\n",
    "tfidfC =sorted(tfidfC.items())\n",
    "tfidfD =sorted(tfidfD.items())\n",
    "\n",
    "def convert(tfidf):\n",
    "    list=[]\n",
    "    for i in range(len(tfidf)):\n",
    "        list.append(tfidf[i][1])\n",
    "    return list\n",
    "#converting dict to list\n",
    "lA=convert(tfidfA)\n",
    "lB=convert(tfidfB)\n",
    "lC=convert(tfidfC)\n",
    "lD=convert(tfidfD)\n",
    "lis=[lA,lB,lC,lD]\n",
    "#required sparse matrix\n",
    "tfidf=csr_matrix(lis)\n",
    "print(tfidf)"
   ]
  },
  {
   "cell_type": "code",
   "execution_count": 17,
   "metadata": {},
   "outputs": [
    {
     "name": "stdout",
     "output_type": "stream",
     "text": [
      "[[0.         0.46979139 0.58028582 0.38408524 0.         0.\n",
      "  0.38408524 0.         0.38408524]]\n"
     ]
    }
   ],
   "source": [
    "#l2 normalization\n",
    "tfidf=normalize(tfidf, norm='l2', axis=1, copy=True, return_norm=False)\n",
    "print(tfidf[0].toarray())"
   ]
  },
  {
   "cell_type": "markdown",
   "metadata": {
    "colab_type": "text",
    "id": "51j_OtqAxLjL"
   },
   "source": [
    "<font face='georgia'>\n",
    "    <h4><strong>2. Implementing max features functionality:</strong></h4>\n",
    "\n",
    "<ul>\n",
    "    <li> As a part of this task you have to modify your fit and transform functions so that your vocab will contain only 50 terms with top idf scores.</li>\n",
    "    <br>\n",
    "    <li>This task is similar to your previous task, just that here your vocabulary is limited to only top 50 features names based on their idf values. Basically your output will have exactly 50 columns and the number of rows will depend on the number of documents you have in your corpus.</li>\n",
    "    <br>\n",
    "    <li>Here you will be give a pickle file, with file name <strong>cleaned_strings</strong>. You would have to load the corpus from this file and use it as input to your tfidf vectorizer.</li>\n",
    "    <br>\n",
    "    <li>Steps to approach this task:\n",
    "    <ol>\n",
    "        <li> You would have to write both fit and transform methods for your custom implementation of tfidf vectorizer, just like in the previous task. Additionally, here you have to limit the number of features generated to 50 as described above.</li>\n",
    "        <li> Now sort your vocab based in descending order of idf values and print out the words in the sorted voacb after you fit your data. Here you should be getting only 50 terms in your vocab. And make sure to print idf values for each term in your vocab. </li>\n",
    "        <li> Make sure the output of your implementation is a sparse matrix. Before generating the final output, you need to normalize your sparse matrix using L2 normalization. You can refer to this link https://scikit-learn.org/stable/modules/generated/sklearn.preprocessing.normalize.html </li>\n",
    "        <li> Now check the output of a single document in your collection of documents,  you can convert the sparse matrix related only to that document into dense matrix and print it. And this dense matrix should contain 1 row and 50 columns. </li>\n",
    "        </ol>\n",
    "    </li>\n",
    "    <br>\n",
    "   </ul>"
   ]
  },
  {
   "cell_type": "code",
   "execution_count": 18,
   "metadata": {
    "colab": {},
    "colab_type": "code",
    "id": "NHxPLlwNxLjL",
    "outputId": "9abd8e08-0e24-4975-9a13-4d3636d60323"
   },
   "outputs": [
    {
     "name": "stdout",
     "output_type": "stream",
     "text": [
      "Number of documents in corpus =  746\n"
     ]
    }
   ],
   "source": [
    "# Below is the code to load the cleaned_strings pickle file provided\n",
    "# Here corpus is of list type\n",
    "\n",
    "import pickle\n",
    "with open('cleaned_strings', 'rb') as f:\n",
    "    corpus2 = pickle.load(f)\n",
    "    \n",
    "# printing the length of the corpus loaded\n",
    "print(\"Number of documents in corpus = \",len(corpus2))"
   ]
  },
  {
   "cell_type": "code",
   "execution_count": 19,
   "metadata": {},
   "outputs": [],
   "source": [
    "def fit(dataset):    \n",
    "    unique_words = set() # at first we will initialize an empty set\n",
    "    # check if its list type or not\n",
    "    if isinstance(dataset, (list,)):\n",
    "        for row in dataset: # for each review in the dataset\n",
    "            for word in row.split(\" \"): # for each word in the review. #split method converts a string into list of words\n",
    "                if len(word) < 2:\n",
    "                    continue\n",
    "                unique_words.add(word)\n",
    "        unique_words = sorted(list(unique_words))\n",
    "        vocab = {j:i for i,j in enumerate(unique_words)}\n",
    "        return vocab\n",
    "    else:\n",
    "        print(\"you need to pass list of sentance\")"
   ]
  },
  {
   "cell_type": "code",
   "execution_count": 20,
   "metadata": {},
   "outputs": [],
   "source": [
    "vocab2=fit(corpus)\n",
    "bagofwords2=[]\n",
    "unique_words2={}\n",
    "numOfWords2=[]\n",
    "#calculating num of words\n",
    "for i in range(len(corpus2)):\n",
    "               bagofwords2.append(corpus2[i].split(' '))\n",
    "               numOfWords2.append(len(corpus2[i].split(' ')))\n",
    "#calculating unique words\n",
    "for i in range(len(corpus2)-1):\n",
    "    unique_words2=set(bagofwords2[i]).union(unique_words2)\n",
    "\n",
    "#function for calculating idf values\n",
    "def computeIDF2(documents2):\n",
    "    \n",
    "    N2 = len(documents2)\n",
    "#     print(N)\n",
    "    idfDict2 = dict.fromkeys(documents2[0].keys(), 0)\n",
    "    for document2 in documents2:\n",
    "        for word2, val2 in document2.items():\n",
    "            if val2 > 0:\n",
    "                try:\n",
    "                    idfDict2[word2] += 1\n",
    "                except:\n",
    "                    break\n",
    "                \n",
    "                    \n",
    "    \n",
    "    for word2, val2 in idfDict2.items():\n",
    "        idfDict2[word2] =1+ math.log((1+N2) /(1+ float(val2)))\n",
    "#         print(idfDict[word])\n",
    "    return idfDict2\n"
   ]
  },
  {
   "cell_type": "code",
   "execution_count": 21,
   "metadata": {},
   "outputs": [
    {
     "name": "stdout",
     "output_type": "stream",
     "text": [
      "['aimless', 'distressed', 'drifting', 'nearly', 'attempting', 'artiness', 'existent', 'gerardo', 'emptiness', 'effort', 'messages', 'buffet', 'science', 'teacher', 'baby', 'owls', 'florida', 'muppets', 'person', 'overdue', 'screenplay', 'post', 'practically', 'charm', 'structure', 'tightly', 'constructed', 'vitally', 'occurs', 'content', 'fill', 'dozen', 'highest', 'superlative', 'require', 'puzzle', 'solving', 'fit', 'pulls', 'punches', 'graphics', 'number', 'th', 'insane', 'massive', 'unlockable', 'properly', 'aye', 'rocks', 'doomed']\n"
     ]
    }
   ],
   "source": [
    "numOfWOrdsL=[]\n",
    "idfs={}\n",
    "# print(type(idfs))\n",
    "#calculating num of words\n",
    "for i in range(len(numOfWords2)):\n",
    "    numOfWords2[i]=Counter(bagofwords2[i])\n",
    "#appending idfs dictionary\n",
    "for j in range(len(numOfWords2)):\n",
    "    temp=[dict(numOfWords2[i]) for i in range(j,len(numOfWords2))]\n",
    "    idfs.update(computeIDF2(temp))\n",
    "\n",
    "#Top 50 idf values\n",
    "updated=Counter(idfs)\n",
    "\n",
    "x=updated.most_common(50)\n",
    "top_50=[]\n",
    "scores=[]\n",
    "for i in range(50):\n",
    "    top_50.append(x[i][0])\n",
    "    scores.append(x[i][1])\n",
    "print(top_50)\n",
    "#Converting to sparse matrix\n",
    "for i in range(50):\n",
    "    x[i]=x[i][1]\n",
    "x=csr_matrix(x)\n",
    "# print(x)"
   ]
  },
  {
   "cell_type": "code",
   "execution_count": 22,
   "metadata": {},
   "outputs": [
    {
     "name": "stdout",
     "output_type": "stream",
     "text": [
      "  (0, 0)\t0.1418074093196935\n",
      "  (0, 1)\t0.1418074093196935\n",
      "  (0, 2)\t0.1418074093196935\n",
      "  (0, 3)\t0.1417799695799439\n",
      "  (0, 4)\t0.14175249303302065\n",
      "  (0, 5)\t0.14175249303302065\n",
      "  (0, 6)\t0.14175249303302065\n",
      "  (0, 7)\t0.14169742912174368\n",
      "  (0, 8)\t0.14166984155843573\n",
      "  (0, 9)\t0.1416145547160738\n",
      "  (0, 10)\t0.1416145547160738\n",
      "  (0, 11)\t0.14155911824743372\n",
      "  (0, 12)\t0.14155911824743372\n",
      "  (0, 13)\t0.14155911824743372\n",
      "  (0, 14)\t0.14153134364974113\n",
      "  (0, 15)\t0.14153134364974113\n",
      "  (0, 16)\t0.14150353134043114\n",
      "  (0, 17)\t0.1414756812169568\n",
      "  (0, 18)\t0.14139190292978202\n",
      "  (0, 19)\t0.14136390051576975\n",
      "  (0, 20)\t0.1413358597685299\n",
      "  (0, 21)\t0.1413358597685299\n",
      "  (0, 22)\t0.14130778058296786\n",
      "  (0, 23)\t0.1412796628535563\n",
      "  (0, 24)\t0.1412796628535563\n",
      "  (0, 25)\t0.1412796628535563\n",
      "  (0, 26)\t0.1412796628535563\n",
      "  (0, 27)\t0.1412796628535563\n",
      "  (0, 28)\t0.1412796628535563\n",
      "  (0, 29)\t0.1412796628535563\n",
      "  (0, 30)\t0.1412796628535563\n",
      "  (0, 31)\t0.1412796628535563\n",
      "  (0, 32)\t0.1412796628535563\n",
      "  (0, 33)\t0.1412796628535563\n",
      "  (0, 34)\t0.1412796628535563\n",
      "  (0, 35)\t0.1412796628535563\n",
      "  (0, 36)\t0.1412796628535563\n",
      "  (0, 37)\t0.1412796628535563\n",
      "  (0, 38)\t0.1412796628535563\n",
      "  (0, 39)\t0.1412796628535563\n",
      "  (0, 40)\t0.1412796628535563\n",
      "  (0, 41)\t0.1412796628535563\n",
      "  (0, 42)\t0.1412796628535563\n",
      "  (0, 43)\t0.1412796628535563\n",
      "  (0, 44)\t0.1412796628535563\n",
      "  (0, 45)\t0.1412796628535563\n",
      "  (0, 46)\t0.1412796628535563\n",
      "  (0, 47)\t0.1412796628535563\n",
      "  (0, 48)\t0.1412796628535563\n",
      "  (0, 49)\t0.1412796628535563\n"
     ]
    }
   ],
   "source": [
    "#Applying l2 normalization\n",
    "idfs=normalize(x, norm='l2', axis=1, copy=True, return_norm=False)\n",
    "print(idfs)"
   ]
  },
  {
   "cell_type": "code",
   "execution_count": 23,
   "metadata": {},
   "outputs": [
    {
     "name": "stdout",
     "output_type": "stream",
     "text": [
      "[[0.14180741 0.14180741 0.14180741 0.14177997 0.14175249 0.14175249\n",
      "  0.14175249 0.14169743 0.14166984 0.14161455 0.14161455 0.14155912\n",
      "  0.14155912 0.14155912 0.14153134 0.14153134 0.14150353 0.14147568\n",
      "  0.1413919  0.1413639  0.14133586 0.14133586 0.14130778 0.14127966\n",
      "  0.14127966 0.14127966 0.14127966 0.14127966 0.14127966 0.14127966\n",
      "  0.14127966 0.14127966 0.14127966 0.14127966 0.14127966 0.14127966\n",
      "  0.14127966 0.14127966 0.14127966 0.14127966 0.14127966 0.14127966\n",
      "  0.14127966 0.14127966 0.14127966 0.14127966 0.14127966 0.14127966\n",
      "  0.14127966 0.14127966]]\n"
     ]
    }
   ],
   "source": [
    "# Sparse matrix to dense matrix conversion\n",
    "# 1 by 50 matrix\n",
    "final=idfs.todense()\n",
    "print(final)"
   ]
  },
  {
   "cell_type": "code",
   "execution_count": 28,
   "metadata": {},
   "outputs": [
    {
     "name": "stdout",
     "output_type": "stream",
     "text": [
      "aimless ----- 6.922918004572872\n",
      "distressed ----- 6.922918004572872\n",
      "drifting ----- 6.922918004572872\n",
      "nearly ----- 6.921578419643816\n",
      "attempting ----- 6.920237037819614\n",
      "artiness ----- 6.920237037819614\n",
      "existent ----- 6.920237037819614\n",
      "gerardo ----- 6.917548864157814\n",
      "emptiness ----- 6.916202062607435\n",
      "effort ----- 6.91350300563827\n",
      "messages ----- 6.91350300563827\n",
      "buffet ----- 6.910796644040527\n",
      "science ----- 6.910796644040527\n",
      "teacher ----- 6.910796644040527\n",
      "baby ----- 6.909440711629391\n",
      "owls ----- 6.909440711629391\n",
      "florida ----- 6.908082938168931\n",
      "muppets ----- 6.906723318652891\n",
      "person ----- 6.902633333401366\n",
      "overdue ----- 6.901266279189834\n",
      "screenplay ----- 6.8998973535824915\n",
      "post ----- 6.8998973535824915\n",
      "practically ----- 6.898526551448713\n",
      "charm ----- 6.8971538676367405\n",
      "structure ----- 6.8971538676367405\n",
      "tightly ----- 6.8971538676367405\n",
      "constructed ----- 6.8971538676367405\n",
      "vitally ----- 6.8971538676367405\n",
      "occurs ----- 6.8971538676367405\n",
      "content ----- 6.8971538676367405\n",
      "fill ----- 6.8971538676367405\n",
      "dozen ----- 6.8971538676367405\n",
      "highest ----- 6.8971538676367405\n",
      "superlative ----- 6.8971538676367405\n",
      "require ----- 6.8971538676367405\n",
      "puzzle ----- 6.8971538676367405\n",
      "solving ----- 6.8971538676367405\n",
      "fit ----- 6.8971538676367405\n",
      "pulls ----- 6.8971538676367405\n",
      "punches ----- 6.8971538676367405\n",
      "graphics ----- 6.8971538676367405\n",
      "number ----- 6.8971538676367405\n",
      "th ----- 6.8971538676367405\n",
      "insane ----- 6.8971538676367405\n",
      "massive ----- 6.8971538676367405\n",
      "unlockable ----- 6.8971538676367405\n",
      "properly ----- 6.8971538676367405\n",
      "aye ----- 6.8971538676367405\n",
      "rocks ----- 6.8971538676367405\n",
      "doomed ----- 6.8971538676367405\n"
     ]
    }
   ],
   "source": [
    "#top idf scores \n",
    "for i in range(50):\n",
    "    print(top_50[i],\"-----\",scores[i])"
   ]
  }
 ],
 "metadata": {
  "colab": {
   "collapsed_sections": [],
   "name": "Assignment_3_Instructions.ipynb",
   "provenance": []
  },
  "kernelspec": {
   "display_name": "Python 3",
   "language": "python",
   "name": "python3"
  },
  "language_info": {
   "codemirror_mode": {
    "name": "ipython",
    "version": 3
   },
   "file_extension": ".py",
   "mimetype": "text/x-python",
   "name": "python",
   "nbconvert_exporter": "python",
   "pygments_lexer": "ipython3",
   "version": "3.7.4"
  }
 },
 "nbformat": 4,
 "nbformat_minor": 1
}
